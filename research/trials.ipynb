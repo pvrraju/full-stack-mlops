{
 "cells": [
  {
   "cell_type": "code",
   "execution_count": 1,
   "id": "f0ad29a4",
   "metadata": {},
   "outputs": [],
   "source": [
    "dict1 = {\"key\":\"value\", \"key1\":\"value1\"}"
   ]
  },
  {
   "cell_type": "code",
   "execution_count": 4,
   "id": "d5e3b649",
   "metadata": {},
   "outputs": [
    {
     "data": {
      "text/plain": [
       "'value'"
      ]
     },
     "execution_count": 4,
     "metadata": {},
     "output_type": "execute_result"
    }
   ],
   "source": [
    "dict1[\"key\"]"
   ]
  },
  {
   "cell_type": "code",
   "execution_count": 5,
   "id": "f81c6ae9",
   "metadata": {},
   "outputs": [
    {
     "ename": "AttributeError",
     "evalue": "'dict' object has no attribute 'key'",
     "output_type": "error",
     "traceback": [
      "\u001b[31m---------------------------------------------------------------------------\u001b[39m",
      "\u001b[31mAttributeError\u001b[39m                            Traceback (most recent call last)",
      "\u001b[36mCell\u001b[39m\u001b[36m \u001b[39m\u001b[32mIn[5]\u001b[39m\u001b[32m, line 1\u001b[39m\n\u001b[32m----> \u001b[39m\u001b[32m1\u001b[39m \u001b[43mdict1\u001b[49m\u001b[43m.\u001b[49m\u001b[43mkey\u001b[49m\n",
      "\u001b[31mAttributeError\u001b[39m: 'dict' object has no attribute 'key'"
     ]
    }
   ],
   "source": [
    "dict1.key"
   ]
  },
  {
   "cell_type": "code",
   "execution_count": 8,
   "id": "18a4d90d",
   "metadata": {},
   "outputs": [
    {
     "data": {
      "text/plain": [
       "ConfigBox({'key': 'value', 'key1': 'value1'})"
      ]
     },
     "execution_count": 8,
     "metadata": {},
     "output_type": "execute_result"
    }
   ],
   "source": [
    "from box import ConfigBox\n",
    "\n",
    "dict2 = ConfigBox({\"key\":\"value\", \"key1\":\"value1\"})\n",
    "\n",
    "dict2"
   ]
  },
  {
   "cell_type": "code",
   "execution_count": null,
   "id": "8264f065",
   "metadata": {},
   "outputs": [],
   "source": []
  }
 ],
 "metadata": {
  "kernelspec": {
   "display_name": "myenv",
   "language": "python",
   "name": "python3"
  },
  "language_info": {
   "codemirror_mode": {
    "name": "ipython",
    "version": 3
   },
   "file_extension": ".py",
   "mimetype": "text/x-python",
   "name": "python",
   "nbconvert_exporter": "python",
   "pygments_lexer": "ipython3",
   "version": "3.13.1"
  }
 },
 "nbformat": 4,
 "nbformat_minor": 5
}
